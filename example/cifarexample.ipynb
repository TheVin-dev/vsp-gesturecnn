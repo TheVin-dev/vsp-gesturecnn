{
 "metadata": {
  "language_info": {
   "codemirror_mode": {
    "name": "ipython",
    "version": 3
   },
   "file_extension": ".py",
   "mimetype": "text/x-python",
   "name": "python",
   "nbconvert_exporter": "python",
   "pygments_lexer": "ipython3",
   "version": "3.9.5"
  },
  "orig_nbformat": 2,
  "kernelspec": {
   "name": "python3",
   "display_name": "Python 3.9.5 64-bit"
  },
  "metadata": {
   "interpreter": {
    "hash": "8272f201a0a338ff1bc4f97ba1e8042325189b7a1ac238dd12d73116ff02d6cd"
   }
  },
  "interpreter": {
   "hash": "8272f201a0a338ff1bc4f97ba1e8042325189b7a1ac238dd12d73116ff02d6cd"
  }
 },
 "nbformat": 4,
 "nbformat_minor": 2,
 "cells": [
  {
   "cell_type": "code",
   "execution_count": 1,
   "metadata": {},
   "outputs": [],
   "source": [
    "import mediapipe as mp \n",
    "import cv2\n",
    "mp_drawing = mp.solutions.drawing_utils\n",
    "mp_pose = mp.solutions.pose\n",
    "cap = cv2.VideoCapture(0)\n",
    "\n",
    "with mp_pose.Pose(min_detection_confidence=0.5,min_tracking_confidence=0.5) as pose:\n",
    "\n",
    "    while (cap.isOpened()):\n",
    "        succes,image = cap.read()\n",
    "        if not succes:\n",
    "            print(\"Couldnt load webcam\")\n",
    "            break \n",
    "        image = cv2.cvtColor(cv2.flip(image, 1), cv2.COLOR_BGR2RGB)\n",
    "        #image.flags.writeable = False\n",
    "        #results = pose.process(image)\n",
    "        #image.flags.writeable = True \n",
    "        #image = cv2.cvtColor(image, cv2.COLOR_RGB2BGR)\n",
    "        #print(results.pose_landmarks)\n",
    "        #mp_drawing.draw_landmarks(image, results.pose_landmarks, mp_pose.POSE_CONNECTIONS)\n",
    "        cv2.imshow('MediaPipe Pose', image)\n",
    "\n",
    "        if cv2.waitKey(5) & 0xFF == 27:\n",
    "            break\n",
    "        cap.release()"
   ]
  },
  {
   "cell_type": "code",
   "execution_count": 2,
   "metadata": {},
   "outputs": [
    {
     "output_type": "stream",
     "name": "stdout",
     "text": [
      "Using __call__ method\nx: 10, y: 16\nUsing __len__ method\n2\nx: 10, y: 16\n"
     ]
    }
   ],
   "source": [
    "\"\"\"\n",
    "Bekijken van de base class methods\n",
    "\"\"\"\n",
    "\n",
    "class TestClass:\n",
    "    def __init__(self,x,y):\n",
    "        self.x = x \n",
    "        self.y = y\n",
    "    def __call__(self):\n",
    "        print(\"Using __call__ method\")\n",
    "    def __str__(self):\n",
    "        return \"x: %.2d, y: %.2d\" % (self.x,self.y)\n",
    "    def __len__(self):\n",
    "        print(\"Using __len__ method\")\n",
    "        return 2\n",
    "test = TestClass(10,16)\n",
    "test()\n",
    "print(str(test))\n",
    "print(len(test))\n",
    "print(test)"
   ]
  },
  {
   "cell_type": "code",
   "execution_count": 4,
   "metadata": {},
   "outputs": [
    {
     "output_type": "stream",
     "name": "stdout",
     "text": [
      "Files already downloaded and verified\n",
      "Files already downloaded and verified\n"
     ]
    }
   ],
   "source": [
    "import torch \n",
    "import torchvision \n",
    "import torchvision.transforms as transforms \n",
    "\n",
    "\n",
    "transform = transforms.Compose(\n",
    "    [transforms.ToTensor(),\n",
    "     transforms.Normalize((0.5, 0.5, 0.5), (0.5, 0.5, 0.5))])\n",
    "\n",
    "batch_size = 4\n",
    "\n",
    "trainset = torchvision.datasets.CIFAR10(root='./data', train=True,\n",
    "                                        download=True, transform=transform)\n",
    "trainloader = torch.utils.data.DataLoader(trainset, batch_size=batch_size,\n",
    "                                          shuffle=True, num_workers=2)\n",
    "\n",
    "testset = torchvision.datasets.CIFAR10(root='./data', train=False,\n",
    "                                       download=True, transform=transform)\n",
    "testloader = torch.utils.data.DataLoader(testset, batch_size=batch_size,\n",
    "                                         shuffle=False, num_workers=2)\n",
    "\n",
    "classes = ('plane', 'car', 'bird', 'cat',\n",
    "           'deer', 'dog', 'frog', 'horse', 'ship', 'truck')\n"
   ]
  },
  {
   "cell_type": "code",
   "execution_count": null,
   "metadata": {},
   "outputs": [],
   "source": [
    "import matplotlib.pyplot as plt\n",
    "import numpy as np\n",
    "\n",
    "# functions to show an image\n",
    "\n",
    "\n",
    "def imshow(img):\n",
    "    img = img / 2 + 0.5     # unnormalize\n",
    "    npimg = img.numpy()\n",
    "    plt.imshow(np.transpose(npimg, (1, 2, 0)))\n",
    "    plt.show()\n",
    "\n",
    "\n",
    "# get some random training images\n",
    "dataiter = iter(trainloader)\n",
    "images, labels = dataiter.next()\n",
    "\n",
    "# show images\n",
    "imshow(torchvision.utils.make_grid(images))\n",
    "# print labels\n",
    "print(' '.join('%5s' % classes[labels[j]] for j in range(batch_size)))\n",
    "\n",
    "\n"
   ]
  },
  {
   "cell_type": "code",
   "execution_count": 6,
   "metadata": {},
   "outputs": [
    {
     "output_type": "stream",
     "name": "stdout",
     "text": [
      ".1,02000 loss: 2.196\n",
      ".1,04000 loss: 1.900\n",
      ".1,06000 loss: 1.716\n",
      ".1,08000 loss: 1.608\n",
      ".1,10000 loss: 1.517\n",
      ".1,12000 loss: 1.495\n",
      ".2,02000 loss: 1.429\n",
      ".2,04000 loss: 1.395\n",
      ".2,06000 loss: 1.386\n",
      ".2,08000 loss: 1.357\n",
      ".2,10000 loss: 1.295\n",
      ".2,12000 loss: 1.330\n",
      ".3,02000 loss: 1.214\n",
      ".3,04000 loss: 1.229\n",
      ".3,06000 loss: 1.228\n",
      ".3,08000 loss: 1.230\n",
      ".3,10000 loss: 1.218\n",
      ".3,12000 loss: 1.185\n",
      "Finished training\n"
     ]
    }
   ],
   "source": [
    "import torch.nn as nn \n",
    "import torch.nn.functional as F \n",
    "import torch.optim as optim \n",
    "\n",
    "device = torch.device(\"cuda:0\" if torch.cuda.is_available() else \"cpu\")\n",
    "print(device)\n",
    "class Net(nn.Module):\n",
    "    def __init__(self):\n",
    "        super().__init__()\n",
    "        self.conv1 =nn.Conv2d(3,6,5)\n",
    "        self.pool = nn.MaxPool2d(2, 2)\n",
    "        self.conv2 = nn.Conv2d(6, 16, 5)\n",
    "        self.fc1 = nn.Linear(16 * 5 * 5, 120)\n",
    "        self.fc2 = nn.Linear(120, 84)\n",
    "        self.fc3 = nn.Linear(84, 10)\n",
    "\n",
    "    def forward(self, x):\n",
    "        x = self.pool(F.relu(self.conv1(x)))\n",
    "        x = self.pool(F.relu(self.conv2(x)))\n",
    "        x = torch.flatten(x, 1) # flatten all dimensions except batch\n",
    "        x = F.relu(self.fc1(x))\n",
    "        x = F.relu(self.fc2(x))\n",
    "        x = self.fc3(x)\n",
    "        return x\n",
    "\n",
    "    def backward(self):\n",
    "        assert(\"Not implemented yet\")\n",
    "        \n",
    "\n",
    "net = Net() \n",
    "criterion = nn.CrossEntropyLoss() \n",
    "optimizer = optim.SGD(net.parameters(),lr =0.001, momentum=0.9)\n",
    "\n",
    "\n",
    "for epoch in range(3):\n",
    "    running_loss = 0.\n",
    "    for i,data in enumerate(trainloader,0):\n",
    "        inputs,label =data \n",
    "        optimizer.zero_grad()\n",
    "        outputs = net(inputs)\n",
    "        loss = criterion(outputs,label)\n",
    "        loss.backward()\n",
    "        optimizer.step() \n",
    "        running_loss += loss.item() \n",
    "        if i % 2000 == 1999:\n",
    "            print(\" %d, %.5d loss: %.3f\" % (epoch +1, i+1 ,running_loss/2000))\n",
    "            running_loss= 0.0\n",
    "\n",
    "\n",
    "print(\"Finished training\")"
   ]
  },
  {
   "cell_type": "code",
   "execution_count": 10,
   "metadata": {},
   "outputs": [
    {
     "output_type": "stream",
     "name": "stdout",
     "text": [
      "Predicted:   deer ship shipplane\n",
      "Accuracy of the network on the 10000 test images: 58 %\n"
     ]
    }
   ],
   "source": [
    "\"\"\"Creating predictions using the train network (net) from above \"\"\"\n",
    "dataiter = iter(testloader)\n",
    "images,labels = dataiter.next() \n",
    "outputs = net(images)\n",
    "\n",
    "_, predicted =torch.max(outputs,1)\n",
    "print(\"Predicted: \", \"\".join('%5s' % classes[predicted[j]] for j in range(4)))\n",
    "\n",
    "correct = 0 \n",
    "total = 0 \n",
    "with torch.no_grad():\n",
    "    for data in testloader:\n",
    "        images,labels = data \n",
    "        outputs = net(images)\n",
    "        _, predicted = torch.max(outputs,1)\n",
    "        total += labels.size(0)\n",
    "        correct += (predicted ==labels).sum().item()\n",
    "print('Accuracy of the network on the 10000 test images: %d %%' % (\n",
    "    100 * correct / total))"
   ]
  },
  {
   "cell_type": "code",
   "execution_count": null,
   "metadata": {},
   "outputs": [],
   "source": []
  },
  {
   "cell_type": "code",
   "execution_count": null,
   "metadata": {},
   "outputs": [],
   "source": []
  }
 ]
}