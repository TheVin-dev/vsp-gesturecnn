{
 "metadata": {
  "language_info": {
   "codemirror_mode": {
    "name": "ipython",
    "version": 3
   },
   "file_extension": ".py",
   "mimetype": "text/x-python",
   "name": "python",
   "nbconvert_exporter": "python",
   "pygments_lexer": "ipython3",
   "version": "3.9.2"
  },
  "orig_nbformat": 2,
  "kernelspec": {
   "name": "python392jvsc74a57bd08272f201a0a338ff1bc4f97ba1e8042325189b7a1ac238dd12d73116ff02d6cd",
   "display_name": "Python 3.9.2 64-bit"
  },
  "metadata": {
   "interpreter": {
    "hash": "8272f201a0a338ff1bc4f97ba1e8042325189b7a1ac238dd12d73116ff02d6cd"
   }
  }
 },
 "nbformat": 4,
 "nbformat_minor": 2,
 "cells": [
  {
   "cell_type": "code",
   "execution_count": 1,
   "metadata": {},
   "outputs": [
    {
     "output_type": "stream",
     "name": "stdout",
     "text": [
      "landmark {\n  x: 0.49792248\n  y: 0.40357125\n  z: -1.320045\n  visibility: 0.99988556\n}\nlandmark {\n  x: 0.5357143\n  y: 0.33028916\n  z: -1.2683613\n  visibility: 0.99976\n}\nlandmark {\n  x: 0.5585872\n  y: 0.32795513\n  z: -1.2679539\n  visibility: 0.99977666\n}\nlandmark {\n  x: 0.5806088\n  y: 0.3248304\n  z: -1.2674396\n  visibility: 0.99976474\n}\nlandmark {\n  x: 0.47529873\n  y: 0.32555035\n  z: -1.2470057\n  visibility: 0.99968755\n}\nlandmark {\n  x: 0.45616132\n  y: 0.3201728\n  z: -1.2478346\n  visibility: 0.9996935\n}\nlandmark {\n  x: 0.43867952\n  y: 0.31374848\n  z: -1.2479128\n  visibility: 0.9997075\n}\nlandmark {\n  x: 0.6146304\n  y: 0.33337152\n  z: -0.8202051\n  visibility: 0.999744\n}\nlandmark {\n  x: 0.42330498\n  y: 0.32704318\n  z: -0.71584225\n  visibility: 0.9994692\n}\nlandmark {\n  x: 0.5430359\n  y: 0.4731388\n  z: -1.1436334\n  visibility: 0.9999418\n}\nlandmark {\n  x: 0.46945867\n  y: 0.4708029\n  z: -1.1146961\n  visibility: 0.9999455\n}\nlandmark {\n  x: 0.7843144\n  y: 0.721374\n  z: -0.5123252\n  visibility: 0.9999354\n}\nlandmark {\n  x: 0.2597018\n  y: 0.68771595\n  z: -0.49002552\n  visibility: 0.9999194\n}\nlandmark {\n  x: 0.8772602\n  y: 1.0897748\n  z: -0.31731346\n  visibility: 0.02526404\n}\nlandmark {\n  x: 0.08230597\n  y: 1.0093806\n  z: -0.2992451\n  visibility: 0.12252345\n}\nlandmark {\n  x: 0.91606605\n  y: 1.5248245\n  z: -0.693501\n  visibility: 0.001961443\n}\nlandmark {\n  x: -0.02446568\n  y: 1.3961548\n  z: -0.62754947\n  visibility: 0.0027836938\n}\nlandmark {\n  x: 0.9619056\n  y: 1.643051\n  z: -0.7930835\n  visibility: 0.003609393\n}\nlandmark {\n  x: -0.086770356\n  y: 1.4940556\n  z: -0.7198518\n  visibility: 0.0043170117\n}\nlandmark {\n  x: 0.90311605\n  y: 1.6723732\n  z: -0.89789903\n  visibility: 0.012613874\n}\nlandmark {\n  x: -0.026578546\n  y: 1.5276005\n  z: -0.8209877\n  visibility: 0.013063184\n}\nlandmark {\n  x: 0.87361366\n  y: 1.616372\n  z: -0.75709414\n  visibility: 0.0075422996\n}\nlandmark {\n  x: 0.007103145\n  y: 1.488918\n  z: -0.69151944\n  visibility: 0.009716544\n}\nlandmark {\n  x: 0.64566684\n  y: 1.5853639\n  z: -0.02815947\n  visibility: 1.0414267e-05\n}\nlandmark {\n  x: 0.3502863\n  y: 1.5851917\n  z: 0.037764587\n  visibility: 9.390651e-06\n}\nlandmark {\n  x: 0.6586046\n  y: 2.2893867\n  z: -0.4032503\n  visibility: 0.00011515959\n}\nlandmark {\n  x: 0.34488815\n  y: 2.2716455\n  z: -0.12757745\n  visibility: 8.574091e-05\n}\nlandmark {\n  x: 0.64755833\n  y: 2.8552802\n  z: 0.17455202\n  visibility: 3.8621235e-07\n}\nlandmark {\n  x: 0.34008712\n  y: 2.8455405\n  z: 0.51909566\n  visibility: 6.3066875e-07\n}\nlandmark {\n  x: 0.64838004\n  y: 2.9468954\n  z: 0.20466128\n  visibility: 3.452878e-07\n}\nlandmark {\n  x: 0.33451062\n  y: 2.936661\n  z: 0.56004095\n  visibility: 4.9216175e-07\n}\nlandmark {\n  x: 0.5867958\n  y: 3.087145\n  z: -0.34727728\n  visibility: 3.1763982e-06\n}\nlandmark {\n  x: 0.3901341\n  y: 3.0679631\n  z: 0.04397379\n  visibility: 6.0749735e-06\n}\n\n"
     ]
    }
   ],
   "source": [
    "import mediapipe as mp \n",
    "import cv2\n",
    "mp_drawing = mp.solutions.drawing_utils\n",
    "mp_pose = mp.solutions.pose\n",
    "cap = cv2.VideoCapture(0)\n",
    "\n",
    "with mp_pose.Pose(min_detection_confidence=0.5,min_tracking_confidence=0.5) as pose:\n",
    "\n",
    "    while (cap.isOpened()):\n",
    "        succes,image = cap.read()\n",
    "        if not succes:\n",
    "            print(\"Couldnt load webcam\")\n",
    "            break \n",
    "        image = cv2.cvtColor(cv2.flip(image, 1), cv2.COLOR_BGR2RGB)\n",
    "        image.flags.writeable = False\n",
    "        results = pose.process(image)\n",
    "        image.flags.writeable = True \n",
    "        image = cv2.cvtColor(image, cv2.COLOR_RGB2BGR)\n",
    "        print(results.pose_landmarks)\n",
    "        mp_drawing.draw_landmarks(image, results.pose_landmarks, mp_pose.POSE_CONNECTIONS)\n",
    "        cv2.imshow('MediaPipe Pose', image)\n",
    "\n",
    "        if cv2.waitKey(5) & 0xFF == 27:\n",
    "            break\n",
    "        cap.release()"
   ]
  },
  {
   "cell_type": "code",
   "execution_count": 3,
   "metadata": {},
   "outputs": [
    {
     "output_type": "stream",
     "name": "stdout",
     "text": [
      "Using __call__ method\nx: 10, y: 16\nUsing __len__ method\n2\nx: 10, y: 16\n"
     ]
    }
   ],
   "source": [
    "\"\"\"\n",
    "Bekijken van de base class methods\n",
    "\"\"\"\n",
    "\n",
    "class TestClass:\n",
    "    def __init__(self,x,y):\n",
    "        self.x = x \n",
    "        self.y = y\n",
    "    def __call__(self):\n",
    "        print(\"Using __call__ method\")\n",
    "    def __str__(self):\n",
    "        return \"x: %.2d, y: %.2d\" % (self.x,self.y)\n",
    "    def __len__(self):\n",
    "        print(\"Using __len__ method\")\n",
    "        return 2\n",
    "test = TestClass(10,16)\n",
    "test()\n",
    "print(str(test))\n",
    "print(len(test))\n",
    "print(test)"
   ]
  },
  {
   "cell_type": "code",
   "execution_count": 4,
   "metadata": {},
   "outputs": [
    {
     "output_type": "stream",
     "name": "stdout",
     "text": [
      "Files already downloaded and verified\n",
      "Files already downloaded and verified\n"
     ]
    }
   ],
   "source": [
    "import torch \n",
    "import torchvision \n",
    "import torchvision.transforms as transforms \n",
    "\n",
    "\n",
    "transform = transforms.Compose(\n",
    "    [transforms.ToTensor(),\n",
    "     transforms.Normalize((0.5, 0.5, 0.5), (0.5, 0.5, 0.5))])\n",
    "\n",
    "batch_size = 4\n",
    "\n",
    "trainset = torchvision.datasets.CIFAR10(root='./data', train=True,\n",
    "                                        download=True, transform=transform)\n",
    "trainloader = torch.utils.data.DataLoader(trainset, batch_size=batch_size,\n",
    "                                          shuffle=True, num_workers=2)\n",
    "\n",
    "testset = torchvision.datasets.CIFAR10(root='./data', train=False,\n",
    "                                       download=True, transform=transform)\n",
    "testloader = torch.utils.data.DataLoader(testset, batch_size=batch_size,\n",
    "                                         shuffle=False, num_workers=2)\n",
    "\n",
    "classes = ('plane', 'car', 'bird', 'cat',\n",
    "           'deer', 'dog', 'frog', 'horse', 'ship', 'truck')\n"
   ]
  },
  {
   "cell_type": "code",
   "execution_count": null,
   "metadata": {},
   "outputs": [],
   "source": [
    "import matplotlib.pyplot as plt\n",
    "import numpy as np\n",
    "\n",
    "# functions to show an image\n",
    "\n",
    "\n",
    "def imshow(img):\n",
    "    img = img / 2 + 0.5     # unnormalize\n",
    "    npimg = img.numpy()\n",
    "    plt.imshow(np.transpose(npimg, (1, 2, 0)))\n",
    "    plt.show()\n",
    "\n",
    "\n",
    "# get some random training images\n",
    "dataiter = iter(trainloader)\n",
    "images, labels = dataiter.next()\n",
    "\n",
    "# show images\n",
    "imshow(torchvision.utils.make_grid(images))\n",
    "# print labels\n",
    "print(' '.join('%5s' % classes[labels[j]] for j in range(batch_size)))\n",
    "\n",
    "\n"
   ]
  },
  {
   "cell_type": "code",
   "execution_count": 6,
   "metadata": {},
   "outputs": [
    {
     "output_type": "stream",
     "name": "stdout",
     "text": [
      ".1,02000 loss: 2.196\n",
      ".1,04000 loss: 1.900\n",
      ".1,06000 loss: 1.716\n",
      ".1,08000 loss: 1.608\n",
      ".1,10000 loss: 1.517\n",
      ".1,12000 loss: 1.495\n",
      ".2,02000 loss: 1.429\n",
      ".2,04000 loss: 1.395\n",
      ".2,06000 loss: 1.386\n",
      ".2,08000 loss: 1.357\n",
      ".2,10000 loss: 1.295\n",
      ".2,12000 loss: 1.330\n",
      ".3,02000 loss: 1.214\n",
      ".3,04000 loss: 1.229\n",
      ".3,06000 loss: 1.228\n",
      ".3,08000 loss: 1.230\n",
      ".3,10000 loss: 1.218\n",
      ".3,12000 loss: 1.185\n",
      "Finished training\n"
     ]
    }
   ],
   "source": [
    "import torch.nn as nn \n",
    "import torch.nn.functional as F \n",
    "import torch.optim as optim \n",
    "\n",
    "device = torch.device(\"cuda:0\" if torch.cuda.is_available() else \"cpu\")\n",
    "print(device)\n",
    "class Net(nn.Module):\n",
    "    def __init__(self):\n",
    "        super().__init__()\n",
    "        self.conv1 =nn.Conv2d(3,6,5)\n",
    "        self.pool = nn.MaxPool2d(2, 2)\n",
    "        self.conv2 = nn.Conv2d(6, 16, 5)\n",
    "        self.fc1 = nn.Linear(16 * 5 * 5, 120)\n",
    "        self.fc2 = nn.Linear(120, 84)\n",
    "        self.fc3 = nn.Linear(84, 10)\n",
    "\n",
    "    def forward(self, x):\n",
    "        x = self.pool(F.relu(self.conv1(x)))\n",
    "        x = self.pool(F.relu(self.conv2(x)))\n",
    "        x = torch.flatten(x, 1) # flatten all dimensions except batch\n",
    "        x = F.relu(self.fc1(x))\n",
    "        x = F.relu(self.fc2(x))\n",
    "        x = self.fc3(x)\n",
    "        return x\n",
    "\n",
    "    def backward(self):\n",
    "        assert(\"Not implemented yet\")\n",
    "        \n",
    "\n",
    "net = Net() \n",
    "criterion = nn.CrossEntropyLoss() \n",
    "optimizer = optim.SGD(net.parameters(),lr =0.001, momentum=0.9)\n",
    "\n",
    "\n",
    "for epoch in range(3):\n",
    "    running_loss = 0.\n",
    "    for i,data in enumerate(trainloader,0):\n",
    "        inputs,label =data \n",
    "        optimizer.zero_grad()\n",
    "        outputs = net(inputs)\n",
    "        loss = criterion(outputs,label)\n",
    "        loss.backward()\n",
    "        optimizer.step() \n",
    "        running_loss += loss.item() \n",
    "        if i % 2000 == 1999:\n",
    "            print(\" %d, %.5d loss: %.3f\" % (epoch +1, i+1 ,running_loss/2000))\n",
    "            running_loss= 0.0\n",
    "\n",
    "\n",
    "print(\"Finished training\")"
   ]
  },
  {
   "cell_type": "code",
   "execution_count": 9,
   "metadata": {},
   "outputs": [
    {
     "output_type": "stream",
     "name": "stdout",
     "text": [
      "Predicted:   deer ship shipplane\n"
     ]
    }
   ],
   "source": [
    "\"\"\"Creating predictions using the train network (net) from above \"\"\"\n",
    "dataiter = iter(testloader)\n",
    "images,labels = dataiter.next() \n",
    "outputs = net(images)\n",
    "\n",
    "_, predicted =torch.max(outputs,1)\n",
    "print(\"Predicted: \", \"\".join('%5s' % classes[predicted[j]] for j in range(4)))\n",
    "\n",
    "correct = 0 \n",
    "total = 0 \n",
    "with torch.no_grad():\n",
    "    for data in testloader:\n",
    "        images,labels = data \n",
    "        outputs = net(images)\n",
    "        _, predicted = torch.max(outputs,1)\n",
    "        total += labels.size(0)\n",
    "        correct += (predicted ==labels).sum().item()\n",
    "print('Accuracy of the network on the 10000 test images: %d %%' % (\n",
    "    100 * correct / total))"
   ]
  },
  {
   "cell_type": "code",
   "execution_count": null,
   "metadata": {},
   "outputs": [],
   "source": []
  }
 ]
}