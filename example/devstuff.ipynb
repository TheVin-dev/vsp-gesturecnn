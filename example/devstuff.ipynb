{
 "metadata": {
  "language_info": {
   "codemirror_mode": {
    "name": "ipython",
    "version": 3
   },
   "file_extension": ".py",
   "mimetype": "text/x-python",
   "name": "python",
   "nbconvert_exporter": "python",
   "pygments_lexer": "ipython3",
   "version": "3.9.2"
  },
  "orig_nbformat": 2,
  "kernelspec": {
   "name": "python392jvsc74a57bd08272f201a0a338ff1bc4f97ba1e8042325189b7a1ac238dd12d73116ff02d6cd",
   "display_name": "Python 3.9.2 64-bit"
  },
  "metadata": {
   "interpreter": {
    "hash": "8272f201a0a338ff1bc4f97ba1e8042325189b7a1ac238dd12d73116ff02d6cd"
   }
  }
 },
 "nbformat": 4,
 "nbformat_minor": 2,
 "cells": [
  {
   "cell_type": "code",
   "execution_count": 15,
   "metadata": {},
   "outputs": [
    {
     "output_type": "stream",
     "name": "stdout",
     "text": [
      "Using __call__ method\nx: 10, y 16\nUsing __len__ method\n2\nx: 10, y 16\n"
     ]
    }
   ],
   "source": [
    "\"\"\"\n",
    "Bekijken van de base class methods\n",
    "\"\"\"\n",
    "\n",
    "class TestClass:\n",
    "    def __init__(self,x,y):\n",
    "        self.x = x \n",
    "        self.y = y\n",
    "    def __call__(self):\n",
    "        print(\"Using __call__ method\")\n",
    "    def __str__(self):\n",
    "        return \"x: %.2d, y: %.2d\" % (self.x,self.y)\n",
    "    def __len__(self):\n",
    "        print(\"Using __len__ method\")\n",
    "        return 2\n",
    "test = TestClass(10,16)\n",
    "test()\n",
    "print(str(test))\n",
    "print(len(test))\n",
    "print(test)"
   ]
  },
  {
   "cell_type": "code",
   "execution_count": 17,
   "metadata": {},
   "outputs": [
    {
     "output_type": "stream",
     "name": "stdout",
     "text": [
      "landmark {\n  x: 0.42599028\n  y: 0.62564194\n  z: -1.2852256\n  visibility: 0.99991894\n}\nlandmark {\n  x: 0.44994125\n  y: 0.5537314\n  z: -1.2392603\n  visibility: 0.99980813\n}\nlandmark {\n  x: 0.47032326\n  y: 0.54744124\n  z: -1.2391361\n  visibility: 0.999821\n}\nlandmark {\n  x: 0.48783103\n  y: 0.5411366\n  z: -1.2388619\n  visibility: 0.99980694\n}\nlandmark {\n  x: 0.38484308\n  y: 0.5637101\n  z: -1.2228471\n  visibility: 0.99980336\n}\nlandmark {\n  x: 0.36262837\n  y: 0.5636132\n  z: -1.2231107\n  visibility: 0.99981755\n}\nlandmark {\n  x: 0.3420557\n  y: 0.56273615\n  z: -1.2228106\n  visibility: 0.9998098\n}\nlandmark {\n  x: 0.5166469\n  y: 0.5509262\n  z: -0.8102992\n  visibility: 0.99979836\n}\nlandmark {\n  x: 0.32024872\n  y: 0.57737064\n  z: -0.7252242\n  visibility: 0.9997181\n}\nlandmark {\n  x: 0.47062343\n  y: 0.684462\n  z: -1.1128098\n  visibility: 0.9999479\n}\nlandmark {\n  x: 0.39292473\n  y: 0.703507\n  z: -1.0888641\n  visibility: 0.99994874\n}\nlandmark {\n  x: 0.6945814\n  y: 0.8643404\n  z: -0.5435084\n  visibility: 0.99965465\n}\nlandmark {\n  x: 0.19062504\n  y: 0.85296494\n  z: -0.48050976\n  visibility: 0.99975985\n}\nlandmark {\n  x: 0.7666776\n  y: 1.2843761\n  z: -0.51904804\n  visibility: 0.14459221\n}\nlandmark {\n  x: 0.07846323\n  y: 1.2711705\n  z: -0.3592888\n  visibility: 0.44029057\n}\nlandmark {\n  x: 0.79178417\n  y: 1.6155179\n  z: -1.0159053\n  visibility: 0.0072887773\n}\nlandmark {\n  x: 0.07949257\n  y: 1.5723252\n  z: -0.76994663\n  visibility: 0.019548504\n}\nlandmark {\n  x: 0.8275593\n  y: 1.7237244\n  z: -1.1482775\n  visibility: 0.010676796\n}\nlandmark {\n  x: 0.0553613\n  y: 1.676675\n  z: -0.8844267\n  visibility: 0.0195689\n}\nlandmark {\n  x: 0.78458065\n  y: 1.7290508\n  z: -1.2304811\n  visibility: 0.02999732\n}\nlandmark {\n  x: 0.09775555\n  y: 1.6777382\n  z: -0.968541\n  visibility: 0.046742357\n}\nlandmark {\n  x: 0.7586876\n  y: 1.686196\n  z: -1.0702823\n  visibility: 0.023570992\n}\nlandmark {\n  x: 0.11930833\n  y: 1.6353918\n  z: -0.82290477\n  visibility: 0.036156848\n}\nlandmark {\n  x: 0.5953055\n  y: 1.6403171\n  z: -0.027486036\n  visibility: 3.6484136e-05\n}\nlandmark {\n  x: 0.2928254\n  y: 1.6427182\n  z: 0.03790813\n  visibility: 3.1677602e-05\n}\nlandmark {\n  x: 0.58686846\n  y: 2.2426085\n  z: -0.7298472\n  visibility: 4.0918334e-05\n}\nlandmark {\n  x: 0.28796485\n  y: 2.2570746\n  z: -0.23676741\n  visibility: 1.766173e-05\n}\nlandmark {\n  x: 0.56777704\n  y: 2.7852886\n  z: -0.1365826\n  visibility: 3.2306724e-07\n}\nlandmark {\n  x: 0.28953803\n  y: 2.7855875\n  z: 0.3991116\n  visibility: 2.676662e-07\n}\nlandmark {\n  x: 0.5655751\n  y: 2.87134\n  z: -0.10000698\n  visibility: 4.0627154e-07\n}\nlandmark {\n  x: 0.2845437\n  y: 2.8699272\n  z: 0.43976027\n  visibility: 2.9508442e-07\n}\nlandmark {\n  x: 0.5352674\n  y: 2.9716623\n  z: -0.63486564\n  visibility: 3.1032403e-06\n}\nlandmark {\n  x: 0.3339966\n  y: 2.9659626\n  z: -0.045445397\n  visibility: 3.1004035e-06\n}\n\n"
     ]
    }
   ],
   "source": [
    "import mediapipe as mp \n",
    "import cv2\n",
    "mp_drawing = mp.solutions.drawing_utils\n",
    "mp_pose = mp.solutions.pose\n",
    "cap = cv2.VideoCapture(0)\n",
    "\n",
    "with mp_pose.Pose(min_detection_confidence=0.5,min_tracking_confidence=0.5) as pose:\n",
    "\n",
    "    while (cap.isOpened()):\n",
    "        succes,image = cap.read()\n",
    "        if not succes:\n",
    "            print(\"Couldnt load webcam\")\n",
    "            break \n",
    "        image = cv2.cvtColor(cv2.flip(image, 1), cv2.COLOR_BGR2RGB)\n",
    "        image.flags.writeable = False\n",
    "        results = pose.process(image)\n",
    "        image.flags.writeable = True \n",
    "        image = cv2.cvtColor(image, cv2.COLOR_RGB2BGR)\n",
    "        print(results.pose_landmarks)\n",
    "        mp_drawing.draw_landmarks(image, results.pose_landmarks, mp_pose.POSE_CONNECTIONS)\n",
    "        cv2.imshow('MediaPipe Pose', image)\n",
    "\n",
    "        if cv2.waitKey(5) & 0xFF == 27:\n",
    "            break\n",
    "        cap.release()"
   ]
  },
  {
   "cell_type": "code",
   "execution_count": 1,
   "metadata": {},
   "outputs": [
    {
     "output_type": "error",
     "ename": "IndentationError",
     "evalue": "expected an indented block (<ipython-input-1-88cc3c5cb3e6>, line 12)",
     "traceback": [
      "\u001b[1;36m  File \u001b[1;32m\"<ipython-input-1-88cc3c5cb3e6>\"\u001b[1;36m, line \u001b[1;32m12\u001b[0m\n\u001b[1;33m    \u001b[0m\n\u001b[1;37m    ^\u001b[0m\n\u001b[1;31mIndentationError\u001b[0m\u001b[1;31m:\u001b[0m expected an indented block\n"
     ]
    }
   ],
   "source": [
    "class Net:\n",
    "    \"\"\"\n",
    "    The simplest CNN \n",
    "    \"\"\"\n",
    "    def __init__(self):\n",
    "        pass \n",
    "\n",
    "    def forward(self):\n",
    "        pass\n",
    "    def backward(self):\n",
    "        pass\n",
    "        \n"
   ]
  },
  {
   "cell_type": "code",
   "execution_count": null,
   "metadata": {},
   "outputs": [],
   "source": []
  }
 ]
}